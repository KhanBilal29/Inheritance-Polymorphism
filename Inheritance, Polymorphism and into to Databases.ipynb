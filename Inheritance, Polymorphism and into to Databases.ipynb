{
 "cells": [
  {
   "cell_type": "code",
   "execution_count": 17,
   "id": "9afac7f9",
   "metadata": {},
   "outputs": [
    {
     "name": "stdout",
     "output_type": "stream",
     "text": [
      "tmy is a pvln born in 1999.\n"
     ]
    }
   ],
   "source": [
    "class Dog:\n",
    "    def __init__(self, name, year_of_birth, breed):\n",
    "        self._name = name\n",
    "        self._year_of_birth = year_of_birth\n",
    "        self._breed = breed\n",
    "    def __str__(self):\n",
    "        return '%s is a %s born in %d.'%(self._name, self._breed, self._year_of_birth)\n",
    "    \n",
    "tmy = Dog('tmy', 1999, 'pvln' )\n",
    "dog1 = Dog('tmy', 1999, 'pvln')\n",
    "dog2 = Dog('tmy', 1999, 'pvln')\n",
    "dog3 = Dog('tmy', 1999, 'pvln')\n",
    "dog4 = Dog('tmy', 1999, 'pvln')\n",
    "dog5 = Dog('tmy', 1999, 'pvln')\n",
    "dog6 = Dog('tmy', 1999, 'pvln')\n",
    "print(tmy)"
   ]
  },
  {
   "cell_type": "code",
   "execution_count": 14,
   "id": "4506473b",
   "metadata": {},
   "outputs": [
    {
     "name": "stdout",
     "output_type": "stream",
     "text": [
      "sudh 54748 abc xyz\n"
     ]
    }
   ],
   "source": [
    " class student:\n",
    "        def __init__(self, name, student_id, school_name, address):\n",
    "            self.name = name\n",
    "            self.student_id = student_id\n",
    "            self.school_name = school_name\n",
    "            self.address = address\n",
    "        def __str__(self):\n",
    "            return str(self.name)+\" \"+str(self.student_id)+\" \"+str(self.school_name)+\" \"+str(self.address)\n",
    "stu = student(\"sudh\", 54748, 'abc', 'xyz') \n",
    "print(stu)"
   ]
  },
  {
   "cell_type": "code",
   "execution_count": 18,
   "id": "4b277822",
   "metadata": {},
   "outputs": [
    {
     "name": "stdout",
     "output_type": "stream",
     "text": [
      "tmy 77 jgj vnvb\n"
     ]
    }
   ],
   "source": [
    "dog = student('tmy', 77, 'jgj', 'vnvb')\n",
    "print(dog)"
   ]
  },
  {
   "cell_type": "code",
   "execution_count": 16,
   "id": "a7f9c01a",
   "metadata": {},
   "outputs": [
    {
     "name": "stdout",
     "output_type": "stream",
     "text": [
      "piku is a jmnsphrd born in 2007.\n"
     ]
    }
   ],
   "source": [
    "dog = Dog('piku', 2007, \"jmnsphrd\")\n",
    "print(dog)"
   ]
  },
  {
   "cell_type": "code",
   "execution_count": null,
   "id": "85e419be",
   "metadata": {},
   "outputs": [],
   "source": [
    "dog1 = student('dog1', 77, 'jgj', 'vnvb')"
   ]
  },
  {
   "cell_type": "code",
   "execution_count": 73,
   "id": "8152b447",
   "metadata": {},
   "outputs": [],
   "source": [
    "class BonusDistribution:\n",
    "    \n",
    "    def __init__(self, employeeId, employeeRating):\n",
    "        \n",
    "        self.employeeId = employeeId\n",
    "        self.empRating = employeeRating\n",
    "        self.__bonusforRatingA = \"70%\"\n",
    "        self.__bonusforRatingB = \"60%\"\n",
    "        self.__bonusforRatingC = \"50%\"\n",
    "        self.__bonusforRatingD = \"30%\"\n",
    "        self.__bonusforRatingForRest = \"No Bonus\"\n",
    "        \n",
    "    def bonusCalculator(self):\n",
    "        \n",
    "        if self.empRating == \"A\":\n",
    "            bonus = self.__bonusforRatingA\n",
    "            msg = \"bonus for this employee is :\"+ bonus\n",
    "            return msg\n",
    "        elif self.empRating == \"B\":\n",
    "            bonus = self.__bonusforRatingB\n",
    "            msg = \"bonus for this employee is :\"+ bonus\n",
    "            return msg\n",
    "        elif self.empRating == \"C\":\n",
    "            bonus = self.__bonusforRatingC\n",
    "            msg = \"bonus for this employee is :\"+ bonus\n",
    "            return msg\n",
    "        elif self.empRating == \"D\":\n",
    "            bonus = self.__bonusforRatingD\n",
    "            msg = \"bonus for this employee is :\"+ bonus\n",
    "            return msg\n",
    "        else :\n",
    "#           self.empRating == \"ForRest\"\n",
    "            bonus = self.__bonusforRatingForRest\n",
    "            msg = \"bonus for this employee is :\"+ bonus\n",
    "            return msg\n",
    "        \n",
    "    def __changevariable(self, value):                                    #we can make function also private\n",
    "        self.__bonusforRatingA = value\n",
    "    \n"
   ]
  },
  {
   "cell_type": "code",
   "execution_count": 74,
   "id": "3e60a51f",
   "metadata": {},
   "outputs": [
    {
     "data": {
      "text/plain": [
       "'bonus for this employee is :70%'"
      ]
     },
     "execution_count": 74,
     "metadata": {},
     "output_type": "execute_result"
    }
   ],
   "source": [
    "emp1 = BonusDistribution(234,\"A\")  #object for the class is here   \n",
    "emp1.bonusCalculator()             #bonusCalculator  "
   ]
  },
  {
   "cell_type": "code",
   "execution_count": 75,
   "id": "bea8e6e9",
   "metadata": {},
   "outputs": [
    {
     "data": {
      "text/plain": [
       "'bonus for this employee is :No Bonus'"
      ]
     },
     "execution_count": 75,
     "metadata": {},
     "output_type": "execute_result"
    }
   ],
   "source": [
    "emp2 = BonusDistribution(476,\"E\")\n",
    "emp2.bonusCalculator()"
   ]
  },
  {
   "cell_type": "code",
   "execution_count": 76,
   "id": "2c96494a",
   "metadata": {},
   "outputs": [
    {
     "data": {
      "text/plain": [
       "'bonus for this employee is :50%'"
      ]
     },
     "execution_count": 76,
     "metadata": {},
     "output_type": "execute_result"
    }
   ],
   "source": [
    "emp3 = BonusDistribution(175,\"C\")\n",
    "emp3.bonusCalculator()"
   ]
  },
  {
   "cell_type": "code",
   "execution_count": 77,
   "id": "58afce3d",
   "metadata": {},
   "outputs": [
    {
     "data": {
      "text/plain": [
       "'bonus for this employee is :55%'"
      ]
     },
     "execution_count": 77,
     "metadata": {},
     "output_type": "execute_result"
    }
   ],
   "source": [
    "emp3._BonusDistribution__bonusforRatingC = \"55%\"   #changing bonus from 50% to 55%\n",
    "emp3.bonusCalculator()"
   ]
  },
  {
   "cell_type": "code",
   "execution_count": 78,
   "id": "d831bd3e",
   "metadata": {},
   "outputs": [
    {
     "data": {
      "text/plain": [
       "'if you want to access the private variable in python then create custom method in class then change it'"
      ]
     },
     "execution_count": 78,
     "metadata": {},
     "output_type": "execute_result"
    }
   ],
   "source": [
    "\"\"\"in python we can access the private variable directly outside of the class by using this \n",
    "emp3._BonusDistribution__bonusforRatingC = \"55%\" approach\"\"\"\n",
    "\n",
    "\"\"\"if you want to access the private variable in python then create custom method in class then change it\"\"\""
   ]
  },
  {
   "cell_type": "code",
   "execution_count": 79,
   "id": "85c5de79",
   "metadata": {},
   "outputs": [
    {
     "ename": "AttributeError",
     "evalue": "'BonusDistribution' object has no attribute 'changevariable'",
     "output_type": "error",
     "traceback": [
      "\u001b[0;31m---------------------------------------------------------------------------\u001b[0m",
      "\u001b[0;31mAttributeError\u001b[0m                            Traceback (most recent call last)",
      "Input \u001b[0;32mIn [79]\u001b[0m, in \u001b[0;36m<cell line: 1>\u001b[0;34m()\u001b[0m\n\u001b[0;32m----> 1\u001b[0m \u001b[43memp1\u001b[49m\u001b[38;5;241;43m.\u001b[39;49m\u001b[43mchangevariable\u001b[49m(\u001b[38;5;124m\"\u001b[39m\u001b[38;5;124m85\u001b[39m\u001b[38;5;124m%\u001b[39m\u001b[38;5;124m\"\u001b[39m)\n\u001b[1;32m      2\u001b[0m emp1\u001b[38;5;241m.\u001b[39mbonusCalculator()\n",
      "\u001b[0;31mAttributeError\u001b[0m: 'BonusDistribution' object has no attribute 'changevariable'"
     ]
    }
   ],
   "source": [
    "emp1.changevariable(\"85%\")\n",
    "emp1.bonusCalculator()"
   ]
  },
  {
   "cell_type": "code",
   "execution_count": 81,
   "id": "5950a662",
   "metadata": {},
   "outputs": [
    {
     "data": {
      "text/plain": [
       "'bonus for this employee is :85%'"
      ]
     },
     "execution_count": 81,
     "metadata": {},
     "output_type": "execute_result"
    }
   ],
   "source": [
    "emp1._BonusDistribution__changevariable(\"85%\")\n",
    "emp1.bonusCalculator()"
   ]
  },
  {
   "cell_type": "code",
   "execution_count": 86,
   "id": "06676b9e",
   "metadata": {},
   "outputs": [],
   "source": [
    "class multiplynumeric():\n",
    "    def __init__(self,a):\n",
    "        self.a = a\n",
    "    "
   ]
  },
  {
   "cell_type": "code",
   "execution_count": 87,
   "id": "57453e1e",
   "metadata": {},
   "outputs": [],
   "source": [
    "mul = multiplynumeric(9)\n",
    "mul1 = multiplynumeric(2)"
   ]
  },
  {
   "cell_type": "code",
   "execution_count": 88,
   "id": "18699695",
   "metadata": {},
   "outputs": [
    {
     "ename": "TypeError",
     "evalue": "unsupported operand type(s) for *: 'multiplynumeric' and 'multiplynumeric'",
     "output_type": "error",
     "traceback": [
      "\u001b[0;31m---------------------------------------------------------------------------\u001b[0m",
      "\u001b[0;31mTypeError\u001b[0m                                 Traceback (most recent call last)",
      "Input \u001b[0;32mIn [88]\u001b[0m, in \u001b[0;36m<cell line: 1>\u001b[0;34m()\u001b[0m\n\u001b[0;32m----> 1\u001b[0m \u001b[43mmul\u001b[49m\u001b[43m \u001b[49m\u001b[38;5;241;43m*\u001b[39;49m\u001b[43m \u001b[49m\u001b[43mmul1\u001b[49m\n",
      "\u001b[0;31mTypeError\u001b[0m: unsupported operand type(s) for *: 'multiplynumeric' and 'multiplynumeric'"
     ]
    }
   ],
   "source": [
    "mul * mul1"
   ]
  },
  {
   "cell_type": "code",
   "execution_count": 89,
   "id": "e7407c90",
   "metadata": {},
   "outputs": [
    {
     "data": {
      "text/plain": [
       "18"
      ]
     },
     "execution_count": 89,
     "metadata": {},
     "output_type": "execute_result"
    }
   ],
   "source": [
    "mul.a * mul1.a"
   ]
  },
  {
   "cell_type": "code",
   "execution_count": 110,
   "id": "ff2f039a",
   "metadata": {},
   "outputs": [],
   "source": [
    "class multiplynumeric():\n",
    "    def __init__(self,a):\n",
    "        self.a = a\n",
    "    def __mul__(self,other):\n",
    "        return self.a * other.a"
   ]
  },
  {
   "cell_type": "code",
   "execution_count": 111,
   "id": "b1bdf503",
   "metadata": {},
   "outputs": [],
   "source": [
    "mul = multiplynumeric(10)\n",
    "mul1 = multiplynumeric(2)"
   ]
  },
  {
   "cell_type": "code",
   "execution_count": 112,
   "id": "7de3d1ad",
   "metadata": {},
   "outputs": [
    {
     "data": {
      "text/plain": [
       "20"
      ]
     },
     "execution_count": 112,
     "metadata": {},
     "output_type": "execute_result"
    }
   ],
   "source": [
    "mul * mul1"
   ]
  },
  {
   "cell_type": "code",
   "execution_count": 113,
   "id": "3fa1fa87",
   "metadata": {},
   "outputs": [],
   "source": [
    "class multiplynumeric():               \n",
    "    def __init__(self,a):\n",
    "        self.a = a\n",
    "    def __mul__(self,other):\n",
    "        return self.a + other.a            \"\"\"ex of operator overloading, here + is a operator we are trying to \n",
    "                                              overload our multiplicative operator by + operator, so it will give \n",
    "                                              result for a + operator\"\"\""
   ]
  },
  {
   "cell_type": "code",
   "execution_count": 114,
   "id": "96bc1cea",
   "metadata": {},
   "outputs": [],
   "source": [
    "mul = multiplynumeric(10)           \n",
    "mul1 = multiplynumeric(2)\n",
    "                           \"\"\"it will give result for a + operator\"\"\""
   ]
  },
  {
   "cell_type": "code",
   "execution_count": 115,
   "id": "6d3b78f0",
   "metadata": {},
   "outputs": [
    {
     "data": {
      "text/plain": [
       "12"
      ]
     },
     "execution_count": 115,
     "metadata": {},
     "output_type": "execute_result"
    }
   ],
   "source": [
    "mul * mul1                 \"\"\"it will give result for a + operator\"\"\""
   ]
  },
  {
   "cell_type": "code",
   "execution_count": 121,
   "id": "1d1fbcfd",
   "metadata": {},
   "outputs": [],
   "source": [
    "class multiplynumeric():               \n",
    "    def __init__(self,a):\n",
    "        self.a = a\n",
    "    def __mul__(self,other):\n",
    "        return self.a - other.a      \n",
    "    \n",
    "                                    \"\"\"ex of operator overloading, here - is a operator we are trying to \n",
    "                                              overload our multiplicative operator by - operator, so it will give \n",
    "                                              result for a - operator\"\"\""
   ]
  },
  {
   "cell_type": "code",
   "execution_count": 123,
   "id": "1488d1fb",
   "metadata": {},
   "outputs": [],
   "source": [
    "mul = multiplynumeric(10)           \n",
    "mul1 = multiplynumeric(2)\n",
    "                           \"\"\"it will give result for a - operator\"\"\""
   ]
  },
  {
   "cell_type": "code",
   "execution_count": 124,
   "id": "1365a2f4",
   "metadata": {},
   "outputs": [
    {
     "data": {
      "text/plain": [
       "8"
      ]
     },
     "execution_count": 124,
     "metadata": {},
     "output_type": "execute_result"
    }
   ],
   "source": [
    "mul * mul1                 \"\"\"it will give result for a - operator\"\"\" "
   ]
  },
  {
   "cell_type": "code",
   "execution_count": null,
   "id": "68a76e7b",
   "metadata": {},
   "outputs": [],
   "source": [
    "#above 2 programs r the ex of polymorphism that is *, + and - operator program when u execute above program then  \n",
    "#remove comments then execute or else it give give error"
   ]
  },
  {
   "cell_type": "markdown",
   "id": "67102ae8",
   "metadata": {},
   "source": [
    "# polymorphism"
   ]
  },
  {
   "cell_type": "code",
   "execution_count": 126,
   "id": "bf191e1c",
   "metadata": {},
   "outputs": [],
   "source": [
    "def test(a,b):\n",
    "    return a+b"
   ]
  },
  {
   "cell_type": "code",
   "execution_count": 128,
   "id": "420dc1be",
   "metadata": {},
   "outputs": [
    {
     "name": "stdout",
     "output_type": "stream",
     "text": [
      "11\n",
      "sudh kumar\n",
      "[5, 6, 3, 9, 5, 78, 54, 90, 23, 54]\n"
     ]
    }
   ],
   "source": [
    "print(test(5,6))\n",
    "print(test(\"sudh \",\"kumar\"))\n",
    "print(test([5,6,3,9,5],[78,54,90,23,54]))"
   ]
  },
  {
   "cell_type": "code",
   "execution_count": null,
   "id": "ab98d0cd",
   "metadata": {},
   "outputs": [],
   "source": [
    "#polymorphism is when entity is same but behaviour changes into different circumstances or we can also say that \n",
    "#polymorphism is multiple different different forms but object is same------explain like this"
   ]
  },
  {
   "cell_type": "code",
   "execution_count": null,
   "id": "c00fc6cf",
   "metadata": {},
   "outputs": [],
   "source": [
    "#in external function self is not required"
   ]
  },
  {
   "cell_type": "code",
   "execution_count": null,
   "id": "b6455f58",
   "metadata": {},
   "outputs": [],
   "source": [
    "#below program is a ex of polymorphism "
   ]
  },
  {
   "cell_type": "code",
   "execution_count": 129,
   "id": "ba7496e1",
   "metadata": {},
   "outputs": [],
   "source": [
    "class ineuron:\n",
    "    def msg(self):\n",
    "        print(\"this is a msg to ineuron\")\n",
    "        \n",
    "class xyz:\n",
    "    def msg(self):\n",
    "        print(\"this is a msg to xyz\")"
   ]
  },
  {
   "cell_type": "code",
   "execution_count": 131,
   "id": "27d26a0d",
   "metadata": {},
   "outputs": [],
   "source": [
    "def test(notes):\n",
    "    notes.msg()"
   ]
  },
  {
   "cell_type": "code",
   "execution_count": 132,
   "id": "fb85fe0b",
   "metadata": {},
   "outputs": [],
   "source": [
    "i = ineuron()\n",
    "x = xyz()"
   ]
  },
  {
   "cell_type": "code",
   "execution_count": 133,
   "id": "42ce097e",
   "metadata": {},
   "outputs": [
    {
     "name": "stdout",
     "output_type": "stream",
     "text": [
      "this is a msg to ineuron\n"
     ]
    }
   ],
   "source": [
    "test(i)"
   ]
  },
  {
   "cell_type": "code",
   "execution_count": 134,
   "id": "05126764",
   "metadata": {},
   "outputs": [
    {
     "name": "stdout",
     "output_type": "stream",
     "text": [
      "this is a msg to xyz\n"
     ]
    }
   ],
   "source": [
    "test(x)"
   ]
  },
  {
   "cell_type": "code",
   "execution_count": null,
   "id": "4f72eaa3",
   "metadata": {},
   "outputs": [],
   "source": []
  }
 ],
 "metadata": {
  "kernelspec": {
   "display_name": "Python 3 (ipykernel)",
   "language": "python",
   "name": "python3"
  },
  "language_info": {
   "codemirror_mode": {
    "name": "ipython",
    "version": 3
   },
   "file_extension": ".py",
   "mimetype": "text/x-python",
   "name": "python",
   "nbconvert_exporter": "python",
   "pygments_lexer": "ipython3",
   "version": "3.9.12"
  }
 },
 "nbformat": 4,
 "nbformat_minor": 5
}
